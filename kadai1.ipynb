{
 "metadata": {
  "language_info": {
   "codemirror_mode": {
    "name": "ipython",
    "version": 3
   },
   "file_extension": ".py",
   "mimetype": "text/x-python",
   "name": "python",
   "nbconvert_exporter": "python",
   "pygments_lexer": "ipython3",
   "version": "3.8.4-final"
  },
  "orig_nbformat": 2,
  "kernelspec": {
   "name": "python_defaultSpec_1598244929309",
   "display_name": "Python 3.8.4 64-bit"
  }
 },
 "nbformat": 4,
 "nbformat_minor": 2,
 "cells": [
  {
   "cell_type": "markdown",
   "metadata": {},
   "source": [
    "# 1920年の東京市と2020年の東京都で, 8月の平均気温に差があるか検定する.\n",
    "\n",
    "但し, 使用するデータは両者とも1日から20日までとする."
   ]
  },
  {
   "cell_type": "code",
   "execution_count": 3,
   "metadata": {},
   "outputs": [],
   "source": [
    "import math\n",
    "import pandas as pd\n",
    "import numpy as np\n",
    "from scipy import stats\n",
    "\n",
    "import warnings\n",
    "warnings.filterwarnings('ignore')"
   ]
  },
  {
   "cell_type": "markdown",
   "metadata": {},
   "source": [
    "## 標本平均の計算と比較\n",
    "---\n",
    "\n",
    "国土交通省気象庁にて公開されている標本データを使用.<br><br>\n",
    "[1920年8月のデータ](https://www.data.jma.go.jp/obd/stats/etrn/view/daily_s1.php?prec_no=44&block_no=47662&year=1920&month=8&day=&view=p1)<br>\n",
    "[2020年8月のデータ](https://www.data.jma.go.jp/obd/stats/etrn/view/daily_s1.php?prec_no=44&block_no=47662&year=2020&month=8&day=&view=p1)"
   ]
  },
  {
   "cell_type": "code",
   "execution_count": 43,
   "metadata": {
    "tags": []
   },
   "outputs": [
    {
     "output_type": "stream",
     "name": "stdout",
     "text": "1920年8月の平均気温 = 25.84\n2020年8月の平均気温 = 29.24\n1920年・2020年の8月における平均気温の差 = 3.40\n"
    }
   ],
   "source": [
    "# 1920年8月1日~20日の東京市の平均気温(℃)\n",
    "data_1920 = pd.Series([27.2, 26.3, 26.8, 26.2, 25.2, 24.6, 24.3, 25.1, 26.2, 25.1,\n",
    "                       25.3, 26.2, 26.1, 27.2, 27.1, 26.2, 26.2, 25.1, 24.2, 26.3])\n",
    "\n",
    "# 2020年8月1日~20日の東京都の平均気温(℃)\n",
    "data_2020 = pd.Series([26.1, 26.3, 27.2, 28.3, 29.1, 28.5, 29.5, 28.1, 28.7, 30.5,\n",
    "                       31.7, 30.0, 29.4, 29.4, 31.0, 31.2, 30.8, 30.3, 29.0, 29.7])\n",
    "\n",
    "\n",
    "print(f\"1920年8月の平均気温 = {data_1920.mean():.2f}\")\n",
    "print(f\"2020年8月の平均気温 = {data_2020.mean():.2f}\")\n",
    "print(f\"1920年・2020年の8月における平均気温の差 = {(abs(data_1920.mean() - data_2020.mean())):.2f}\")"
   ]
  },
  {
   "cell_type": "markdown",
   "metadata": {},
   "source": [
    "## 母集団の推定"
   ]
  },
  {
   "cell_type": "code",
   "execution_count": 44,
   "metadata": {
    "tags": []
   },
   "outputs": [
    {
     "output_type": "stream",
     "name": "stdout",
     "text": "1920年のデータの母集団の平均推定値 = 25.84\n2020年のデータの母集団の平均推定値 = 29.24\n1920年のデータの母集団の標準偏差の推定値(不偏標準偏差) = 0.93\n2020年のデータの母集団の標準偏差の推定値(不偏標準偏差) = 1.54\n"
    }
   ],
   "source": [
    "print(f\"1920年のデータの母集団の平均推定値 = {data_1920.mean():.2f}\")\n",
    "print(f\"2020年のデータの母集団の平均推定値 = {data_2020.mean():.2f}\")\n",
    "print(f\"1920年のデータの母集団の標準偏差の推定値(不偏標準偏差) = {data_1920.std(ddof=1):.2f}\")\n",
    "print(f\"2020年のデータの母集団の標準偏差の推定値(不偏標準偏差) = {data_2020.std(ddof=1):.2f}\")"
   ]
  },
  {
   "cell_type": "markdown",
   "metadata": {},
   "source": [
    "## 対応なしｔ検定の前提条件のチェック\n",
    "---\n",
    "\n",
    "平均気温に実質的な差があっても, それは偶然による誤差である可能性がある.<br>\n",
    "この平均気温の差が偶然であるか否かを『対応なしｔ検定』によって定量的に見る.<br>\n",
    "\n",
    "但し, 対応なしｔ検定を適用するにあたり, 標本について以下の条件を満たす必要がある.<br>\n",
    "\n",
    "1. 2つの母集団から標本が無作為に抽出されていること.\n",
    "2. 比較する2群のデータの母集団が正規分布, またはそれに近い分布となっていること(**正規姓**).\n",
    "3. 比較する2群のデータの分散が等しいこと(**等分散性**)."
   ]
  },
  {
   "cell_type": "markdown",
   "metadata": {},
   "source": [
    "## 正規性の検定\n",
    "---\n",
    "\n",
    "**シャピロ・ウィルク検定** (Shapiro-Wilk 検定) により正規性の検定を行う.<br><br>\n",
    "\n",
    "シャピロ・ウィルク検定は「標本は正規分布に従う母集団から無作為抽出されたものである」を帰無仮説とする.<br>\n",
    "今回は有意水準を5% (=0.05) とする.<br>\n",
    "そして, 検定により求まる有意確率 p が5%よりも大きいならば「母集団は正規分布に従う」という仮説を採択する.<br>\n",
    "ここでの有意確率 p の具体的な意味は「正規母集団から無作為抽出したときに今回の標本分布が観測される確率」を意味する.\n"
   ]
  },
  {
   "cell_type": "code",
   "execution_count": 45,
   "metadata": {
    "tags": []
   },
   "outputs": [
    {
     "output_type": "stream",
     "name": "stdout",
     "text": "1920年のデータ p値 = 0.117\n2020年のデータ p値 = 0.622\n"
    }
   ],
   "source": [
    "# シャピロ・ウィルク検定\n",
    "_, pa = stats.shapiro(data_1920)\n",
    "_, pb = stats.shapiro(data_2020)\n",
    "\n",
    "print(f\"1920年のデータ p値 = {pa:.3f}\")\n",
    "print(f\"2020年のデータ p値 = {pb:.3f}\")"
   ]
  },
  {
   "cell_type": "markdown",
   "metadata": {},
   "source": [
    "p 値はいずれも p >= 0.05 (5%) であるので, **帰無仮説を採択**して『各教本の母集団には正規性がある』と判断する.<br>\n",
    "\n",
    "なお, この母集団が正規分布に従うということが言えると, 各標本の母集団について平均値の **区間推定** (母平均の区間推定) ができる.<br>\n",
    "母平均の95%信頼区間を求める."
   ]
  },
  {
   "cell_type": "code",
   "execution_count": 46,
   "metadata": {
    "tags": []
   },
   "outputs": [
    {
     "output_type": "stream",
     "name": "stdout",
     "text": "1920年のデータにおける母平均の95%信頼区間 CI = [25.41, 26.28]\n2020年のデータにおける母平均の95%信頼区間 CI = [28.52, 29.96]\n"
    }
   ],
   "source": [
    "# 1920年のデータ\n",
    "u2 = data_1920.var(ddof=1)           # 母集団の分散推定値(不偏分散)\n",
    "m = data_1920.mean()                 # 標本平均\n",
    "DF = len(data_1920) - 1              # 自由度\n",
    "SE = math.sqrt(u2 / len(data_1920))  # 標準偏差\n",
    "CI1, CI2 = stats.t.interval(alpha=0.95, loc=m, scale=SE, df=DF)\n",
    "\n",
    "print(f\"1920年のデータにおける母平均の95%信頼区間 CI = [{CI1:.2f}, {CI2:.2f}]\")\n",
    "\n",
    "\n",
    "# 2020年のデータ\n",
    "u2 = data_2020.var(ddof=1)           \n",
    "m = data_2020.mean()                 \n",
    "DF = len(data_2020) - 1              \n",
    "SE = math.sqrt(u2 / len(data_2020))  \n",
    "CI1, CI2 = stats.t.interval(alpha=0.95, loc=m, scale=SE, df=DF)\n",
    "\n",
    "print(f\"2020年のデータにおける母平均の95%信頼区間 CI = [{CI1:.2f}, {CI2:.2f}]\")"
   ]
  },
  {
   "cell_type": "markdown",
   "metadata": {},
   "source": [
    "## 等分散性の検定\n",
    "---\n",
    "\n",
    "**ルビーン検定** (Levene 検定) により等分散性の検定を行う.<br>\n",
    "この検定は, 2つの母分散が等しいことを帰無仮説とする.<br>\n",
    "なお, ここでも有意水準5%で検定を行う."
   ]
  },
  {
   "cell_type": "code",
   "execution_count": 47,
   "metadata": {
    "tags": []
   },
   "outputs": [
    {
     "output_type": "stream",
     "name": "stdout",
     "text": "p 値 = 0.094\n"
    }
   ],
   "source": [
    "# ルビーン検定\n",
    "_, p = stats.levene(data_1920, data_2020, center=\"mean\")\n",
    "\n",
    "print(f\"p 値 = {p:.3f}\")"
   ]
  },
  {
   "cell_type": "markdown",
   "metadata": {},
   "source": [
    "p 値 (優位確率) が p >= 0.05 (5%) であるので,帰無仮説を採択して『2つの標本には等分散性がある』と判断する.<br>\n"
   ]
  },
  {
   "cell_type": "markdown",
   "metadata": {},
   "source": [
    "## スチューデントのｔ検定 (Student t-test)\n",
    "---\n",
    "\n",
    "対応なしｔ検定 (対応なしのスチューデントのｔ検定) として検定を行う。<br>\n",
    "\n",
    "- スチューデントのｔ検定 (Student t-test) とは, 2群間の平均値の差を比較する検定のこと.\n",
    "- 2群間の平均値が独立であり, 2群間に等分散性が仮定できる場合に用いる.<br><br>\n",
    "\n",
    "『2つの標本の平均値に有意差がない』ことを帰無仮説とする.\n",
    "\n",
    "\n"
   ]
  },
  {
   "cell_type": "code",
   "execution_count": 48,
   "metadata": {
    "tags": []
   },
   "outputs": [
    {
     "output_type": "stream",
     "name": "stdout",
     "text": "p 値 = 0.0000000003\nt 値 = -8.47\n平均値の差 = 3.40\n差の標準誤差 = -0.40\n"
    }
   ],
   "source": [
    "# スチューデントのt検定\n",
    "t, p = stats.ttest_ind(data_1920, data_2020, equal_var=True)\n",
    "MU = abs(data_1920.mean() - data_2020.mean())\n",
    "SE = MU / t\n",
    "DF = len(data_1920) + len(data_2020) - 2\n",
    "CI1, CI2 = stats.t.interval(alpha=0.95, loc=MU, scale=SE, df=DF)\n",
    "\n",
    "print(f\"p 値 = {p:.10f}\")\n",
    "print(f\"t 値 = {t:.2f}\")\n",
    "print(f\"平均値の差 = {MU:.2f}\")\n",
    "print(f\"差の標準誤差 = {SE:.2f}\")"
   ]
  },
  {
   "cell_type": "markdown",
   "metadata": {},
   "source": [
    "p 値 (有意確率) が p < 0.05 (5%) なので『2つの標本の平均値に有意差がない』としていた帰無仮説が棄却される.<br>\n",
    "つまり, ｔ検定の結果として『2つの標本の平均差は(統計学的に見て)有意差があり, 2020年8月の平均気温の方が有意に温度が高い』ことが言える.<br><br>\n",
    "\n",
    "※ ここでの有意確率 p の具体的な意味は『2つの標本がｔ検定の前提条件(無作為抽出・正規性・等分散性)を完璧に満たし,さらにそれら母集団の平均値の差が0であるとし, それら母集団から無作為に2群の標本を抽出して平均の差をとったとき, 今回のような差・あるいは今回より大きな差が観測される確率』を意味する."
   ]
  }
 ]
}